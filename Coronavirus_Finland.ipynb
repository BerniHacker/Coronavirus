{
 "cells": [
  {
   "cell_type": "markdown",
   "metadata": {},
   "source": [
    "# Coronavirus Cases in Finland"
   ]
  },
  {
   "cell_type": "markdown",
   "metadata": {},
   "source": [
    "> NOTE: Due to changes in the source files by Johns Hokpins University, the pipeline is currently broken. It will be fixed by the end of the day."
   ]
  },
  {
   "cell_type": "markdown",
   "metadata": {},
   "source": [
    "##### __Bernardo Di Chiara, Data Analyst__\n",
    "\n",
    "_Last plotted day: see the end of the file_"
   ]
  },
  {
   "cell_type": "markdown",
   "metadata": {},
   "source": [
    "## 1. Executive Summary <a name=\"1.\"></a>"
   ]
  },
  {
   "cell_type": "markdown",
   "metadata": {},
   "source": [
    "This notebook contains visualizations related to the spread of Coronavirus in Finland.\n",
    "\n",
    "The data is taken from the Johns Hokpins University (JHU) [/1/](https://github.com/CSSEGISandData/COVID-19).\n",
    "\n",
    "There are a few good dashboards in the Web about to this topic (for example, by Johns Hokpins University [/2/](https://www.arcgis.com/apps/opsdashboard/index.html#/bda7594740fd40299423467b48e9ecf6) and by Tableau [/3/](https://public.tableau.com/profile/covid.19.data.resource.hub#!/vizhome/COVID-19Cases_15840488375320/COVID-19Cases)). In addition, there is a good site with latest information about Finland broken down by Region [/4/](https://finland-coronavirus-map.netlify.com/). Still, it might be beneficial to manipulate the data in order, for example, to compare Finnish curves with curves from other Countries.\n",
    "\n",
    "Having updated charts is very useful both for authorities and for the population in order to make fact-based decisions that help to contain the positive cases so not to overload the hospitals and therefore minimizing the casualties.\n",
    "\n",
    "Comparing Finnish curves to those of neighboring Countries might provide useful insights since, in addition to the geographical proximity and similar weather, those Countries have certain similarities in culture, behavior patterns and may be genetics.\n",
    "\n",
    "A line plot containing confirmed cases each day as well as recovered cases and deceased cases in Finland has been produced.\n",
    "\n",
    "A second line plot containing the new confirmed daily cases in Finland, which shows the speed at which the virus is spreading, has been added.\n",
    "\n",
    "Finnish curves have been compared to the curves of the other Scandinavian Countries as well as few other European Countries.\n",
    "\n",
    "Finally, plots with worldwide data have been produced.\n",
    "\n",
    "Due to the criticality of this information, no recommendations is included in this paper. Currently, Doctors and Authorities are the best sources for such recommendations.\n",
    "\n",
    "**If you are not interested in the code, go to section 6 and focus on the plots and their description.**\n",
    "\n",
    "**DISCLAIMER:**\n",
    "    \n",
    "- The code has not been peer-reviewed. If someone is wishing to do it, please contact the author.\n",
    "- The data related to the last day might be incomplete.\n",
    "- More clarifications are contained in section 6 close to the plots."
   ]
  },
  {
   "cell_type": "markdown",
   "metadata": {},
   "source": [
    "### 1.1. References<a name=\"1.1.\"></a>"
   ]
  },
  {
   "cell_type": "markdown",
   "metadata": {},
   "source": [
    "<sub>/1/ [GitHub Repository by Johns Hokpins University](https://github.com/CSSEGISandData/COVID-19)<br>\n",
    "https://github.com/CSSEGISandData/COVID-19</sub>\n",
    "\n",
    "<sub>/2/ [Dashboard by Johns Hokpins University with world-wide view](https://www.arcgis.com/apps/opsdashboard/index.html#/bda7594740fd40299423467b48e9ecf6)<br>\n",
    "https://www.arcgis.com/apps/opsdashboard/index.html#/bda7594740fd40299423467b48e9ecf6</sub>\n",
    "\n",
    "<sub>/3/ [Dashboard by Tableau with both global and Country-specific data](https://public.tableau.com/profile/covid.19.data.resource.hub#!/vizhome/COVID-19Cases_15840488375320/COVID-19Cases)<br>\n",
    "https://public.tableau.com/profile/covid.19.data.resource.hub#!/vizhome/COVID-19Cases_15840488375320/COVID-19Cases\n",
    "\n",
    "<sub>/4/ [Latest news about Finland broken by Region](https://finland-coronavirus-map.netlify.com/)<br>\n",
    "https://finland-coronavirus-map.netlify.com/"
   ]
  },
  {
   "cell_type": "markdown",
   "metadata": {},
   "source": [
    "## 2. Setup <a name=\"2.\"></a>"
   ]
  },
  {
   "cell_type": "code",
   "execution_count": 1,
   "metadata": {},
   "outputs": [],
   "source": [
    "# Importing the needed packages\n",
    "import os\n",
    "import datetime as dt\n",
    "import regex as re\n",
    "import pandas as pd\n",
    "import numpy as np\n",
    "import matplotlib.pyplot as plt\n",
    "import seaborn as sns\n",
    "\n",
    "# Displaying all the dafaframe columns\n",
    "pd.set_option('display.max_columns', None)"
   ]
  },
  {
   "cell_type": "markdown",
   "metadata": {},
   "source": [
    "## 8. Conclusions <a name=\"8.\"></a>"
   ]
  },
  {
   "cell_type": "markdown",
   "metadata": {},
   "source": [
    "The plots are shortly described in section 6.\n",
    "\n",
    "Due to the need of daily updates, no additional comment is added here.\n",
    "\n",
    "It might be useful to add bar charts containing data from the daily reports for different Countries. This might be done in future versions of this file."
   ]
  },
  {
   "cell_type": "markdown",
   "metadata": {},
   "source": [
    "## 9. Acknowledgements <a name=\"9.\"></a>  "
   ]
  },
  {
   "cell_type": "markdown",
   "metadata": {},
   "source": [
    "Many thanks to [Johns Hokpins University](https://www.jhu.edu/) for sharing and maintaining daily the source csv files.\n",
    "\n",
    "Many thanks to colleagues and friends who have contributed by providing links and comments."
   ]
  },
  {
   "cell_type": "markdown",
   "metadata": {},
   "source": [
    "---"
   ]
  },
  {
   "cell_type": "markdown",
   "metadata": {},
   "source": [
    "---\n",
    "<sub>Used software:</sub><br>\n",
    "<sub>- Jupyter Notebook server 6.0.1</sub><br>\n",
    "<sub>- Python 3.6.8</sub><br>\n",
    "<sub>- numpy 1.17.3</sub><br>\n",
    "<sub>- pandas 0.25.2</sub><br>\n",
    "<sub>- matplotlib 3.1.2</sub><br>\n",
    "<sub>- seaborn 0.9.0</sub><br>\n",
    "<sub>- regex 2019.8.19</sub><br>\n",
    "<sub>on top of Linux Ubuntu 18.04</sub><br>"
   ]
  }
 ],
 "metadata": {
  "coursera": {
   "course_slug": "python-machine-learning",
   "graded_item_id": "nNS8l",
   "launcher_item_id": "yWWk7",
   "part_id": "w8BSS"
  },
  "kernelspec": {
   "display_name": "Python 3",
   "language": "python",
   "name": "python3"
  },
  "language_info": {
   "codemirror_mode": {
    "name": "ipython",
    "version": 3
   },
   "file_extension": ".py",
   "mimetype": "text/x-python",
   "name": "python",
   "nbconvert_exporter": "python",
   "pygments_lexer": "ipython3",
   "version": "3.6.9"
  },
  "varInspector": {
   "cols": {
    "lenName": 16,
    "lenType": 16,
    "lenVar": 40
   },
   "kernels_config": {
    "python": {
     "delete_cmd_postfix": "",
     "delete_cmd_prefix": "del ",
     "library": "var_list.py",
     "varRefreshCmd": "print(var_dic_list())"
    },
    "r": {
     "delete_cmd_postfix": ") ",
     "delete_cmd_prefix": "rm(",
     "library": "var_list.r",
     "varRefreshCmd": "cat(var_dic_list()) "
    }
   },
   "position": {
    "height": "448.85px",
    "left": "550px",
    "right": "20px",
    "top": "132px",
    "width": "350px"
   },
   "types_to_exclude": [
    "module",
    "function",
    "builtin_function_or_method",
    "instance",
    "_Feature"
   ],
   "window_display": false
  }
 },
 "nbformat": 4,
 "nbformat_minor": 2
}
